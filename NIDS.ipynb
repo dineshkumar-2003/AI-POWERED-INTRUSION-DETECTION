{
 "cells": [
  {
   "cell_type": "code",
   "execution_count": 2,
   "id": "1967b713-a9d5-4097-aed1-cf411bc6c4aa",
   "metadata": {},
   "outputs": [],
   "source": [
    "import pandas as pd\n",
    "import numpy as np\n",
    "import glob\n",
    "from sklearn.ensemble import RandomForestClassifier, IsolationForest\n",
    "from sklearn.model_selection import train_test_split,GridSearchCV\n",
    "from sklearn.preprocessing import StandardScaler\n",
    "from sklearn.feature_selection import SelectKBest, f_classif, VarianceThreshold\n",
    "from sklearn.metrics import accuracy_score, classification_report\n",
    "from imblearn.over_sampling import SMOTE\n",
    "import joblib\n",
    "from xgboost import XGBClassifier\n",
    "import xgboost\n",
    "from collections import Counter\n",
    "import time\n"
   ]
  },
  {
   "cell_type": "code",
   "execution_count": 3,
   "id": "31beef82-2a35-40c2-ae9a-5aa839757da7",
   "metadata": {},
   "outputs": [],
   "source": [
    "dataset_folder = r\"D:\\AI Based Cybersecurity threat detection\\AI-Based-NIDS-using-RF-and-IF\\cicids2017_dataset\"\n",
    "csv_files = glob.glob(dataset_folder + \"/*.csv\")\n",
    "\n",
    "dataframes = []\n",
    "loaded_files = set()\n",
    "\n",
    "# Ensure each file is only loaded once\n",
    "for file in csv_files:\n",
    "    if file not in loaded_files:\n",
    "        dataframes.append(pd.read_csv(file))\n",
    "        loaded_files.add(file)\n",
    "\n",
    "df = pd.concat(dataframes, ignore_index=True) if dataframes else pd.DataFrame()"
   ]
  },
  {
   "cell_type": "code",
   "execution_count": 4,
   "id": "92c089c9-3d91-42c4-890e-c04052d8bee5",
   "metadata": {},
   "outputs": [],
   "source": [
    "df.columns = df.columns.str.strip()\n"
   ]
  },
  {
   "cell_type": "code",
   "execution_count": 5,
   "id": "258e07ef-00bf-400d-a5c3-68f01a0c4d5f",
   "metadata": {},
   "outputs": [],
   "source": [
    "columns_to_drop = ['Timestamp', 'Flow ID', 'Source IP', 'Destination IP', 'Source Port', 'Destination Port', 'Protocol']\n",
    "df = df.drop(columns=[col for col in columns_to_drop if col in df.columns], errors='ignore')"
   ]
  },
  {
   "cell_type": "code",
   "execution_count": 6,
   "id": "8b6784b5-856e-461a-92f3-daed6a2030f9",
   "metadata": {},
   "outputs": [
    {
     "name": "stdout",
     "output_type": "stream",
     "text": [
      "Label\n",
      "BENIGN       2273097\n",
      "MALICIOUS     555466\n",
      "Name: count, dtype: int64\n"
     ]
    }
   ],
   "source": [
    "category_mapping = {\n",
    "    'BENIGN': 'BENIGN',\n",
    "    'Bot': 'BOTNET',\n",
    "    'DDoS': 'DOS',\n",
    "    'DoS GoldenEye': 'DOS',\n",
    "    'DoS Hulk': 'DOS',\n",
    "    'DoS Slowhttptest': 'DOS',\n",
    "    'DoS slowloris': 'DOS',\n",
    "    'FTP-Patator': 'BRUTE_FORCE',\n",
    "    'SSH-Patator': 'BRUTE_FORCE',\n",
    "    'Heartbleed': 'WEB_ATTACK',\n",
    "    'Infiltration': 'WEB_ATTACK',\n",
    "    'PortScan': 'RECONNAISSANCE',\n",
    "    'Web Attack – Brute Force': 'WEB_ATTACK',\n",
    "    'Web Attack – Sql Injection': 'WEB_ATTACK',\n",
    "    'Web Attack – XSS': 'WEB_ATTACK'\n",
    "}\n",
    "\n",
    "df['Label'] = df['Label'].map(category_mapping)\n",
    "\n",
    "# 🔥 Convert into \"BENIGN\" or \"MALICIOUS\"\n",
    "malice_mapping = {\n",
    "   'BENIGN': 'BENIGN', \n",
    "    'BOTNET': 'MALICIOUS',\n",
    "    'DOS': 'MALICIOUS',\n",
    "    'BRUTE_FORCE': 'MALICIOUS',\n",
    "    'WEB_ATTACK': 'MALICIOUS',\n",
    "    'RECONNAISSANCE': 'MALICIOUS'\n",
    "}\n",
    "\n",
    "df['Label'] = df['Label'].map(malice_mapping)\n",
    "\n",
    "# 🔥 Print label counts to check balance\n",
    "print(df['Label'].value_counts())"
   ]
  },
  {
   "cell_type": "code",
   "execution_count": 7,
   "id": "ed0b808f-f572-450f-857f-fd87f1eeb625",
   "metadata": {},
   "outputs": [],
   "source": [
    "df = df.drop_duplicates()"
   ]
  },
  {
   "cell_type": "code",
   "execution_count": 8,
   "id": "82c8817b-f037-4f6d-a7bb-ef8425375ff3",
   "metadata": {},
   "outputs": [],
   "source": [
    "numeric_cols = df.select_dtypes(include=['number']).columns\n",
    "df[numeric_cols] = df[numeric_cols].apply(lambda x: x.fillna(x.median()))\n",
    "df.replace([np.inf, -np.inf], np.nan, inplace=True)\n",
    "df.dropna(inplace=True)"
   ]
  },
  {
   "cell_type": "code",
   "execution_count": 9,
   "id": "d2f94d13-9d82-4d44-9025-39dce8eb0823",
   "metadata": {},
   "outputs": [
    {
     "name": "stdout",
     "output_type": "stream",
     "text": [
      "         Flow Duration  Total Fwd Packets  Total Backward Packets  \\\n",
      "0                    3                  2                       0   \n",
      "1                  109                  1                       1   \n",
      "2                   52                  1                       1   \n",
      "3                   34                  1                       1   \n",
      "4                    3                  2                       0   \n",
      "...                ...                ...                     ...   \n",
      "2830738          32215                  4                       2   \n",
      "2830739            324                  2                       2   \n",
      "2830740             82                  2                       1   \n",
      "2830741        1048635                  6                       2   \n",
      "2830742          94939                  4                       2   \n",
      "\n",
      "         Total Length of Fwd Packets  Total Length of Bwd Packets  \\\n",
      "0                                 12                            0   \n",
      "1                                  6                            6   \n",
      "2                                  6                            6   \n",
      "3                                  6                            6   \n",
      "4                                 12                            0   \n",
      "...                              ...                          ...   \n",
      "2830738                          112                          152   \n",
      "2830739                           84                          362   \n",
      "2830740                           31                            6   \n",
      "2830741                          192                          256   \n",
      "2830742                          188                          226   \n",
      "\n",
      "         Fwd Packet Length Max  Fwd Packet Length Min  Fwd Packet Length Mean  \\\n",
      "0                            6                      6                     6.0   \n",
      "1                            6                      6                     6.0   \n",
      "2                            6                      6                     6.0   \n",
      "3                            6                      6                     6.0   \n",
      "4                            6                      6                     6.0   \n",
      "...                        ...                    ...                     ...   \n",
      "2830738                     28                     28                    28.0   \n",
      "2830739                     42                     42                    42.0   \n",
      "2830740                     31                      0                    15.5   \n",
      "2830741                     32                     32                    32.0   \n",
      "2830742                     47                     47                    47.0   \n",
      "\n",
      "         Fwd Packet Length Std  Bwd Packet Length Max  ...  act_data_pkt_fwd  \\\n",
      "0                      0.00000                      0  ...                 1   \n",
      "1                      0.00000                      6  ...                 0   \n",
      "2                      0.00000                      6  ...                 0   \n",
      "3                      0.00000                      6  ...                 0   \n",
      "4                      0.00000                      0  ...                 1   \n",
      "...                        ...                    ...  ...               ...   \n",
      "2830738                0.00000                     76  ...                 3   \n",
      "2830739                0.00000                    181  ...                 1   \n",
      "2830740               21.92031                      6  ...                 0   \n",
      "2830741                0.00000                    128  ...                 5   \n",
      "2830742                0.00000                    113  ...                 3   \n",
      "\n",
      "         min_seg_size_forward  Active Mean  Active Std  Active Max  \\\n",
      "0                          20          0.0         0.0           0   \n",
      "1                          20          0.0         0.0           0   \n",
      "2                          20          0.0         0.0           0   \n",
      "3                          20          0.0         0.0           0   \n",
      "4                          20          0.0         0.0           0   \n",
      "...                       ...          ...         ...         ...   \n",
      "2830738                    20          0.0         0.0           0   \n",
      "2830739                    20          0.0         0.0           0   \n",
      "2830740                    32          0.0         0.0           0   \n",
      "2830741                    20          0.0         0.0           0   \n",
      "2830742                    20          0.0         0.0           0   \n",
      "\n",
      "         Active Min  Idle Mean  Idle Std  Idle Max  Idle Min  \n",
      "0                 0        0.0       0.0         0         0  \n",
      "1                 0        0.0       0.0         0         0  \n",
      "2                 0        0.0       0.0         0         0  \n",
      "3                 0        0.0       0.0         0         0  \n",
      "4                 0        0.0       0.0         0         0  \n",
      "...             ...        ...       ...       ...       ...  \n",
      "2830738           0        0.0       0.0         0         0  \n",
      "2830739           0        0.0       0.0         0         0  \n",
      "2830740           0        0.0       0.0         0         0  \n",
      "2830741           0        0.0       0.0         0         0  \n",
      "2830742           0        0.0       0.0         0         0  \n",
      "\n",
      "[2231021 rows x 77 columns]\n"
     ]
    }
   ],
   "source": [
    "X=df.drop(columns='Label')\n",
    "y=df['Label']\n",
    "print (X)"
   ]
  },
  {
   "cell_type": "code",
   "execution_count": 10,
   "id": "25254223-e62b-452d-8b71-51d8c821bbae",
   "metadata": {},
   "outputs": [
    {
     "name": "stdout",
     "output_type": "stream",
     "text": [
      "['BENIGN' 'MALICIOUS']\n"
     ]
    }
   ],
   "source": [
    "from sklearn.preprocessing import LabelEncoder\n",
    "\n",
    "le = LabelEncoder()\n",
    "y = le.fit_transform(y)  # Convert to 0 & 1\n",
    "\n",
    "print(le.classes_)  # This prints: ['BENIGN' 'MALICIOUS']"
   ]
  },
  {
   "cell_type": "code",
   "execution_count": 11,
   "id": "dba6585f-15b4-488c-b7bb-513175b5ee2f",
   "metadata": {},
   "outputs": [],
   "source": [
    "X_train, X_test, y_train, y_test = train_test_split(X, y, test_size=0.2, random_state=42, stratify=y)"
   ]
  },
  {
   "cell_type": "code",
   "execution_count": 12,
   "id": "7745b5f8-33a5-4dbb-96e7-c13e6c6be72c",
   "metadata": {},
   "outputs": [
    {
     "name": "stdout",
     "output_type": "stream",
     "text": [
      "Counter({0: 1517337, 1: 267479})\n"
     ]
    }
   ],
   "source": [
    "smote = SMOTE(sampling_strategy='auto', random_state=42)\n",
    "X_train_resampled, y_train_resampled = smote.fit_resample(X_train, y_train)\n",
    "print(Counter(y_train))"
   ]
  },
  {
   "cell_type": "code",
   "execution_count": 13,
   "id": "2ad9b30e-e602-4570-98f4-716944e56c58",
   "metadata": {},
   "outputs": [
    {
     "name": "stdout",
     "output_type": "stream",
     "text": [
      "Counter({0: 1517337, 1: 1517337})\n"
     ]
    }
   ],
   "source": [
    "print(Counter(y_train_resampled))"
   ]
  },
  {
   "cell_type": "code",
   "execution_count": 14,
   "id": "2775075f-8ddf-4cea-bbe0-dff4f430f751",
   "metadata": {},
   "outputs": [],
   "source": [
    "scaler = StandardScaler()\n",
    "X_train_scaled = scaler.fit_transform(X_train_resampled)\n",
    "X_test_scaled = scaler.transform(X_test)"
   ]
  },
  {
   "cell_type": "code",
   "execution_count": 15,
   "id": "a6b084b8-7bd3-4bf2-9fe6-9f99071ca342",
   "metadata": {},
   "outputs": [
    {
     "name": "stderr",
     "output_type": "stream",
     "text": [
      "C:\\Users\\dines\\AppData\\Local\\Programs\\Python\\Python312\\Lib\\site-packages\\sklearn\\feature_selection\\_univariate_selection.py:111: UserWarning: Features [30 32 55 56 57 58 59 60] are constant.\n",
      "  warnings.warn(\"Features %s are constant.\" % constant_features_idx, UserWarning)\n",
      "C:\\Users\\dines\\AppData\\Local\\Programs\\Python\\Python312\\Lib\\site-packages\\sklearn\\feature_selection\\_univariate_selection.py:112: RuntimeWarning: invalid value encountered in divide\n",
      "  f = msb / msw\n"
     ]
    }
   ],
   "source": [
    "selector = SelectKBest(score_func=f_classif, k=20)\n",
    "X_train_selected = selector.fit_transform(X_train_scaled, y_train_resampled)\n",
    "X_test_selected = selector.transform(X_test_scaled)"
   ]
  },
  {
   "cell_type": "code",
   "execution_count": 16,
   "id": "9a3bacb1-3319-4a2f-8f85-6e969bfaa936",
   "metadata": {},
   "outputs": [
    {
     "name": "stdout",
     "output_type": "stream",
     "text": [
      "Original Train Shape: (1784816, 77) (1784816,)\n",
      "Resampled Train Shape: (3034674, 77) (3034674,)\n",
      "Selected Features Shape (Train): (3034674, 20)\n",
      "Selected Features Shape (Test): (446205, 20)\n"
     ]
    }
   ],
   "source": [
    "print(\"Original Train Shape:\", X_train.shape, y_train.shape)\n",
    "print(\"Resampled Train Shape:\", X_train_resampled.shape, y_train_resampled.shape)\n",
    "print(\"Selected Features Shape (Train):\", X_train_selected.shape)\n",
    "print(\"Selected Features Shape (Test):\", X_test_selected.shape)"
   ]
  },
  {
   "cell_type": "code",
   "execution_count": 17,
   "id": "305a83b7-7bc3-43ce-8b32-7ab571e42afc",
   "metadata": {},
   "outputs": [
    {
     "name": "stdout",
     "output_type": "stream",
     "text": [
      "Selected Features: Index(['Flow Duration', 'Bwd Packet Length Max', 'Bwd Packet Length Min',\n",
      "       'Bwd Packet Length Mean', 'Bwd Packet Length Std', 'Flow IAT Std',\n",
      "       'Flow IAT Max', 'Fwd IAT Total', 'Fwd IAT Std', 'Fwd IAT Max',\n",
      "       'Min Packet Length', 'Max Packet Length', 'Packet Length Mean',\n",
      "       'Packet Length Std', 'Packet Length Variance', 'Average Packet Size',\n",
      "       'Avg Bwd Segment Size', 'Idle Mean', 'Idle Max', 'Idle Min'],\n",
      "      dtype='object')\n"
     ]
    }
   ],
   "source": [
    "selected_feature_indices = selector.get_support(indices=True)\n",
    "selected_feature_names = df.columns[selected_feature_indices]  # Extract feature names\n",
    "\n",
    "# Print the selected feature names\n",
    "print(\"Selected Features:\", selected_feature_names)"
   ]
  },
  {
   "cell_type": "code",
   "execution_count": 18,
   "id": "5b980fb9-0871-4ffb-a111-2b9f181eac7b",
   "metadata": {},
   "outputs": [
    {
     "name": "stdout",
     "output_type": "stream",
     "text": [
      "Training time: 4442.91 seconds\n",
      "Prediction time: 12.56 seconds\n"
     ]
    }
   ],
   "source": [
    "from sklearn.pipeline import Pipeline\n",
    "start_fit = time.time()\n",
    "\n",
    "rf_model = RandomForestClassifier(n_estimators=200, random_state=42)\n",
    "rf_model.fit(X_train_selected, y_train_resampled)\n",
    "end_fit = time.time()\n",
    "print(f\"Training time: {end_fit - start_fit:.2f} seconds\")\n",
    "rf_fit_t = end_fit - start_fit \n",
    "\n",
    "start_pred = time.time()\n",
    "y_pred_rf = rf_model.predict(X_test_selected)\n",
    "end_pred = time.time()\n",
    "print(f\"Prediction time: {end_pred - start_pred:.2f} seconds\")\n",
    "rf_pred_t = end_pred - start_pred"
   ]
  },
  {
   "cell_type": "code",
   "execution_count": 21,
   "id": "a21b6d1a-b575-4bc1-8198-58c932bece35",
   "metadata": {},
   "outputs": [
    {
     "name": "stdout",
     "output_type": "stream",
     "text": [
      "              precision    recall  f1-score   support\n",
      "\n",
      "           0     0.9986    0.9976    0.9981    379335\n",
      "           1     0.9867    0.9923    0.9895     66870\n",
      "\n",
      "    accuracy                         0.9968    446205\n",
      "   macro avg     0.9927    0.9950    0.9938    446205\n",
      "weighted avg     0.9968    0.9968    0.9968    446205\n",
      "\n",
      "Random Forest Accuracy: 0.9968332941136921\n"
     ]
    }
   ],
   "source": [
    "print(classification_report(y_test, y_pred_rf, digits=4))\n",
    "rf_report = classification_report(y_test, y_pred_rf, digits=4, output_dict=True)\n",
    "print(\"Random Forest Accuracy:\", accuracy_score(y_test, y_pred_rf))"
   ]
  },
  {
   "cell_type": "code",
   "execution_count": 22,
   "id": "43cbea68-a5a6-43a4-a81c-db54e0c0d3d8",
   "metadata": {},
   "outputs": [
    {
     "name": "stdout",
     "output_type": "stream",
     "text": [
      "False Positives (FP): 896\n",
      "False Negatives (FN): 517\n"
     ]
    }
   ],
   "source": [
    "from sklearn.metrics import confusion_matrix\n",
    "\n",
    "# Generate confusion matrix\n",
    "cm = confusion_matrix(y_test, y_pred_rf)\n",
    "\n",
    "# Extract values\n",
    "TN, FP, FN, TP = cm.ravel()\n",
    "\n",
    "print(f\"False Positives (FP): {FP}\")\n",
    "print(f\"False Negatives (FN): {FN}\")"
   ]
  },
  {
   "cell_type": "code",
   "execution_count": 23,
   "id": "cd93d7f7-397b-4f18-8406-48733bebfab4",
   "metadata": {},
   "outputs": [
    {
     "name": "stdout",
     "output_type": "stream",
     "text": [
      "Model saved at: D:\\AI_Based_Cybersecurity_Threat_Detection\\jupyter_models\\rf_final_try1.pkl\n"
     ]
    }
   ],
   "source": [
    "import os\n",
    "save_dir = r\"D:\\AI_Based_Cybersecurity_Threat_Detection\\jupyter_models\"  # Change this to your path\n",
    "os.makedirs(save_dir, exist_ok=True)  # Create directory if it doesn’t exist\n",
    "model_path = os.path.join(save_dir, \"rf_final_try1.pkl\")\n",
    "joblib.dump(rf_model, model_path)\n",
    "print(f\"Model saved at: {model_path}\")"
   ]
  },
  {
   "cell_type": "code",
   "execution_count": 26,
   "id": "caff343f-c4ca-4009-afad-160135dc4e9a",
   "metadata": {},
   "outputs": [],
   "source": [
    "# Train Isolation Forest (for anomaly detection)\n",
    "if_model = IsolationForest(n_estimators=100, contamination=0.1, random_state=42)\n",
    "if_model.fit(X_train_selected)\n",
    "\n",
    "# Predict Anomalies (-1 for anomaly, 1 for normal)\n",
    "y_pred_if = if_model.predict(X_test_selected)\n",
    "\n",
    "# Convert IF outputs to match classification labels\n",
    "y_pred_if = np.where(y_pred_if == -1, 0, 1)"
   ]
  },
  {
   "cell_type": "code",
   "execution_count": 27,
   "id": "dcbd670a-d94f-40b5-b0e1-449a245c9111",
   "metadata": {},
   "outputs": [
    {
     "name": "stdout",
     "output_type": "stream",
     "text": [
      "              precision    recall  f1-score   support\n",
      "\n",
      "           0     0.7710    0.0748    0.1364    379335\n",
      "           1     0.1427    0.8739    0.2454     66870\n",
      "\n",
      "    accuracy                         0.1946    446205\n",
      "   macro avg     0.4569    0.4744    0.1909    446205\n",
      "weighted avg     0.6768    0.1946    0.1528    446205\n",
      "\n",
      "Isolation Forest Accuracy: 0.19458768951490907\n"
     ]
    }
   ],
   "source": [
    "print(classification_report(y_test, y_pred_if, digits=4))\n",
    "if_report = classification_report(y_test, y_pred_if, digits=4, output_dict=True)\n",
    "print(\"Isolation Forest Accuracy:\", accuracy_score(y_test, y_pred_if))"
   ]
  },
  {
   "cell_type": "code",
   "execution_count": 28,
   "id": "8d2099d7-3b06-4698-b59e-681b05207932",
   "metadata": {},
   "outputs": [
    {
     "name": "stdout",
     "output_type": "stream",
     "text": [
      "Model saved at: D:\\AI_Based_Cybersecurity_Threat_Detection\\jupyter_models\\if_final_try1.pkl\n"
     ]
    }
   ],
   "source": [
    "import os\n",
    "save_dir = r\"D:\\AI_Based_Cybersecurity_Threat_Detection\\jupyter_models\"  # Change this to your path\n",
    "os.makedirs(save_dir, exist_ok=True)  # Create directory if it doesn’t exist\n",
    "model_path = os.path.join(save_dir, \"if_final_try1.pkl\")\n",
    "joblib.dump(if_model, model_path)\n",
    "print(f\"Model saved at: {model_path}\")"
   ]
  },
  {
   "cell_type": "code",
   "execution_count": null,
   "id": "f13f3145-35d9-4dfd-8370-84e2f37ddeb2",
   "metadata": {},
   "outputs": [],
   "source": []
  }
 ],
 "metadata": {
  "kernelspec": {
   "display_name": "Python 3 (ipykernel)",
   "language": "python",
   "name": "python3"
  },
  "language_info": {
   "codemirror_mode": {
    "name": "ipython",
    "version": 3
   },
   "file_extension": ".py",
   "mimetype": "text/x-python",
   "name": "python",
   "nbconvert_exporter": "python",
   "pygments_lexer": "ipython3",
   "version": "3.12.2"
  }
 },
 "nbformat": 4,
 "nbformat_minor": 5
}
